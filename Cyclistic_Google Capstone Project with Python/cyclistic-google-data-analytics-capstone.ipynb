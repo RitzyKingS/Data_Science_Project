{
 "cells": [
  {
   "cell_type": "markdown",
   "id": "c458f230",
   "metadata": {
    "papermill": {
     "duration": 0.020425,
     "end_time": "2023-07-03T12:40:59.225866",
     "exception": false,
     "start_time": "2023-07-03T12:40:59.205441",
     "status": "completed"
    },
    "tags": []
   },
   "source": [
    "# Introduction\n",
    "\n",
    "As a \"junior data analyst\" working in Cyclistics marking analytics team, I am tasked to understand how casual riders and annual members use Cyclistic bikes differently. I will approach this task through the Ask, Prepare, Process, Analyze, Share, and Act phases."
   ]
  },
  {
   "cell_type": "markdown",
   "id": "ca7691e0",
   "metadata": {
    "papermill": {
     "duration": 0.018021,
     "end_time": "2023-07-03T12:40:59.263142",
     "exception": false,
     "start_time": "2023-07-03T12:40:59.245121",
     "status": "completed"
    },
    "tags": []
   },
   "source": [
    "# Ask\n",
    "\n",
    "The ask phase requires us to answer related questions that will aid the business task, which in this case is to determine the differences in behaviours between casual members and annual members so that design marketing strategies can be implemented to aid in the conversion of casual members into annual members. This is because, the marketing director and the marketing analysis team have came to the conclusion that an annual membership is much more profitable to the company in comparison to a casual membership.\n",
    "\n",
    "The company has provided the data they collected for the past 12 months to help with this business task. I will be using the language Python to prepare, process, and analyse this data. I will then use Power BI to share the results to the stakeholders."
   ]
  },
  {
   "cell_type": "markdown",
   "id": "c2b6cda2",
   "metadata": {
    "papermill": {
     "duration": 0.018277,
     "end_time": "2023-07-03T12:40:59.300465",
     "exception": false,
     "start_time": "2023-07-03T12:40:59.282188",
     "status": "completed"
    },
    "tags": []
   },
   "source": [
    "# Prepare\n",
    "In the prepare phase, we have to first determine if the data is usable by checking its credibility. I did this by going through the \"ROCCC\" check (Reliable, Original, Comprehensive, Current, and Cited). After verifying that the 12 months of data provided by Motivate International Inc is credible, I then move on to setting up my studio to process the data. As mentioned before, I will be using Python for this phase.\n",
    "\n",
    "I observed that the data is stored in a \".csv\" format (comma seperated values) and that each data set has 13 variables."
   ]
  },
  {
   "cell_type": "markdown",
   "id": "09d0ba63",
   "metadata": {
    "papermill": {
     "duration": 0.018055,
     "end_time": "2023-07-03T12:40:59.336855",
     "exception": false,
     "start_time": "2023-07-03T12:40:59.318800",
     "status": "completed"
    },
    "tags": []
   },
   "source": [
    "# Process\n",
    "In this phase, I clean the data by removing all null values, renaming or recoding variables to get more useful data, and format variables to have symmetrical and readable data types."
   ]
  },
  {
   "cell_type": "markdown",
   "id": "f6c5f587",
   "metadata": {
    "papermill": {
     "duration": 0.018385,
     "end_time": "2023-07-03T12:40:59.374196",
     "exception": false,
     "start_time": "2023-07-03T12:40:59.355811",
     "status": "completed"
    },
    "tags": []
   },
   "source": [
    "# Business Task:\n",
    "Understanding the nature of bike usage between annual members & casual members and to introduce strategy to increase the number of annual memberships."
   ]
  },
  {
   "cell_type": "markdown",
   "id": "05d97333",
   "metadata": {
    "papermill": {
     "duration": 0.018481,
     "end_time": "2023-07-03T12:40:59.412491",
     "exception": false,
     "start_time": "2023-07-03T12:40:59.394010",
     "status": "completed"
    },
    "tags": []
   },
   "source": [
    "# Data Preparation\n",
    "### Import Libraries"
   ]
  },
  {
   "cell_type": "code",
   "execution_count": 1,
   "id": "da455112",
   "metadata": {
    "execution": {
     "iopub.execute_input": "2023-07-03T12:40:59.452329Z",
     "iopub.status.busy": "2023-07-03T12:40:59.451899Z",
     "iopub.status.idle": "2023-07-03T12:41:01.364562Z",
     "shell.execute_reply": "2023-07-03T12:41:01.362666Z"
    },
    "papermill": {
     "duration": 1.936504,
     "end_time": "2023-07-03T12:41:01.367979",
     "exception": false,
     "start_time": "2023-07-03T12:40:59.431475",
     "status": "completed"
    },
    "tags": []
   },
   "outputs": [],
   "source": [
    "import numpy as np\n",
    "import pandas as pd\n",
    "import matplotlib.pyplot as plt\n",
    "import seaborn as sns\n",
    "%matplotlib inline"
   ]
  },
  {
   "cell_type": "markdown",
   "id": "2dddea15",
   "metadata": {
    "papermill": {
     "duration": 0.018269,
     "end_time": "2023-07-03T12:41:01.405639",
     "exception": false,
     "start_time": "2023-07-03T12:41:01.387370",
     "status": "completed"
    },
    "tags": []
   },
   "source": [
    "### Import DataSet"
   ]
  },
  {
   "cell_type": "code",
   "execution_count": 2,
   "id": "1711e517",
   "metadata": {
    "execution": {
     "iopub.execute_input": "2023-07-03T12:41:01.445328Z",
     "iopub.status.busy": "2023-07-03T12:41:01.444820Z",
     "iopub.status.idle": "2023-07-03T12:41:45.426555Z",
     "shell.execute_reply": "2023-07-03T12:41:45.425121Z"
    },
    "papermill": {
     "duration": 44.005906,
     "end_time": "2023-07-03T12:41:45.430181",
     "exception": false,
     "start_time": "2023-07-03T12:41:01.424275",
     "status": "completed"
    },
    "tags": []
   },
   "outputs": [],
   "source": [
    "jan = pd.read_csv('Cyclistic_data/202101-divvy-tripdata.csv')\n",
    "feb = pd.read_csv('Cyclistic_data/202102-divvy-tripdata.csv')\n",
    "mar = pd.read_csv('Cyclistic_data/202103-divvy-tripdata.csv')\n",
    "apr = pd.read_csv('Cyclistic_data/202104-divvy-tripdata.csv')\n",
    "may = pd.read_csv('Cyclistic_data/202105-divvy-tripdata.csv')\n",
    "jun = pd.read_csv('Cyclistic_data/202106-divvy-tripdata.csv')\n",
    "jul = pd.read_csv('Cyclistic_data/202107-divvy-tripdata.csv')\n",
    "aug = pd.read_csv('Cyclistic_data/202108-divvy-tripdata.csv')\n",
    "sep = pd.read_csv('Cyclistic_data/202109-divvy-tripdata.csv')\n",
    "oct = pd.read_csv('Cyclistic_data/202110-divvy-tripdata.csv')\n",
    "nov = pd.read_csv('Cyclistic_data/202111-divvy-tripdata.csv')\n",
    "dec = pd.read_csv('Cyclistic_data/202112-divvy-tripdata.csv')"
   ]
  },
  {
   "cell_type": "code",
   "execution_count": 3,
   "id": "86022ebf",
   "metadata": {
    "execution": {
     "iopub.execute_input": "2023-07-03T12:41:45.471445Z",
     "iopub.status.busy": "2023-07-03T12:41:45.470175Z",
     "iopub.status.idle": "2023-07-03T12:41:45.512734Z",
     "shell.execute_reply": "2023-07-03T12:41:45.511452Z"
    },
    "papermill": {
     "duration": 0.066058,
     "end_time": "2023-07-03T12:41:45.515365",
     "exception": false,
     "start_time": "2023-07-03T12:41:45.449307",
     "status": "completed"
    },
    "tags": []
   },
   "outputs": [
    {
     "data": {
      "text/html": [
       "<div>\n",
       "<style scoped>\n",
       "    .dataframe tbody tr th:only-of-type {\n",
       "        vertical-align: middle;\n",
       "    }\n",
       "\n",
       "    .dataframe tbody tr th {\n",
       "        vertical-align: top;\n",
       "    }\n",
       "\n",
       "    .dataframe thead th {\n",
       "        text-align: right;\n",
       "    }\n",
       "</style>\n",
       "<table border=\"1\" class=\"dataframe\">\n",
       "  <thead>\n",
       "    <tr style=\"text-align: right;\">\n",
       "      <th></th>\n",
       "      <th>ride_id</th>\n",
       "      <th>rideable_type</th>\n",
       "      <th>started_at</th>\n",
       "      <th>ended_at</th>\n",
       "      <th>start_station_name</th>\n",
       "      <th>start_station_id</th>\n",
       "      <th>end_station_name</th>\n",
       "      <th>end_station_id</th>\n",
       "      <th>start_lat</th>\n",
       "      <th>start_lng</th>\n",
       "      <th>end_lat</th>\n",
       "      <th>end_lng</th>\n",
       "      <th>member_casual</th>\n",
       "    </tr>\n",
       "  </thead>\n",
       "  <tbody>\n",
       "    <tr>\n",
       "      <th>0</th>\n",
       "      <td>E19E6F1B8D4C42ED</td>\n",
       "      <td>electric_bike</td>\n",
       "      <td>2021-01-23 16:14:19</td>\n",
       "      <td>2021-01-23 16:24:44</td>\n",
       "      <td>California Ave &amp; Cortez St</td>\n",
       "      <td>17660</td>\n",
       "      <td>NaN</td>\n",
       "      <td>NaN</td>\n",
       "      <td>41.900341</td>\n",
       "      <td>-87.696743</td>\n",
       "      <td>41.89</td>\n",
       "      <td>-87.72</td>\n",
       "      <td>member</td>\n",
       "    </tr>\n",
       "    <tr>\n",
       "      <th>1</th>\n",
       "      <td>DC88F20C2C55F27F</td>\n",
       "      <td>electric_bike</td>\n",
       "      <td>2021-01-27 18:43:08</td>\n",
       "      <td>2021-01-27 18:47:12</td>\n",
       "      <td>California Ave &amp; Cortez St</td>\n",
       "      <td>17660</td>\n",
       "      <td>NaN</td>\n",
       "      <td>NaN</td>\n",
       "      <td>41.900333</td>\n",
       "      <td>-87.696707</td>\n",
       "      <td>41.90</td>\n",
       "      <td>-87.69</td>\n",
       "      <td>member</td>\n",
       "    </tr>\n",
       "  </tbody>\n",
       "</table>\n",
       "</div>"
      ],
      "text/plain": [
       "            ride_id  rideable_type           started_at             ended_at  \\\n",
       "0  E19E6F1B8D4C42ED  electric_bike  2021-01-23 16:14:19  2021-01-23 16:24:44   \n",
       "1  DC88F20C2C55F27F  electric_bike  2021-01-27 18:43:08  2021-01-27 18:47:12   \n",
       "\n",
       "           start_station_name start_station_id end_station_name  \\\n",
       "0  California Ave & Cortez St            17660              NaN   \n",
       "1  California Ave & Cortez St            17660              NaN   \n",
       "\n",
       "  end_station_id  start_lat  start_lng  end_lat  end_lng member_casual  \n",
       "0            NaN  41.900341 -87.696743    41.89   -87.72        member  \n",
       "1            NaN  41.900333 -87.696707    41.90   -87.69        member  "
      ]
     },
     "execution_count": 3,
     "metadata": {},
     "output_type": "execute_result"
    }
   ],
   "source": [
    "jan.head(2)"
   ]
  },
  {
   "cell_type": "code",
   "execution_count": 4,
   "id": "f2d1cb7f",
   "metadata": {
    "execution": {
     "iopub.execute_input": "2023-07-03T12:41:45.555695Z",
     "iopub.status.busy": "2023-07-03T12:41:45.555111Z",
     "iopub.status.idle": "2023-07-03T12:41:45.576784Z",
     "shell.execute_reply": "2023-07-03T12:41:45.575277Z"
    },
    "papermill": {
     "duration": 0.044858,
     "end_time": "2023-07-03T12:41:45.579844",
     "exception": false,
     "start_time": "2023-07-03T12:41:45.534986",
     "status": "completed"
    },
    "tags": []
   },
   "outputs": [
    {
     "data": {
      "text/html": [
       "<div>\n",
       "<style scoped>\n",
       "    .dataframe tbody tr th:only-of-type {\n",
       "        vertical-align: middle;\n",
       "    }\n",
       "\n",
       "    .dataframe tbody tr th {\n",
       "        vertical-align: top;\n",
       "    }\n",
       "\n",
       "    .dataframe thead th {\n",
       "        text-align: right;\n",
       "    }\n",
       "</style>\n",
       "<table border=\"1\" class=\"dataframe\">\n",
       "  <thead>\n",
       "    <tr style=\"text-align: right;\">\n",
       "      <th></th>\n",
       "      <th>ride_id</th>\n",
       "      <th>rideable_type</th>\n",
       "      <th>started_at</th>\n",
       "      <th>ended_at</th>\n",
       "      <th>start_station_name</th>\n",
       "      <th>start_station_id</th>\n",
       "      <th>end_station_name</th>\n",
       "      <th>end_station_id</th>\n",
       "      <th>start_lat</th>\n",
       "      <th>start_lng</th>\n",
       "      <th>end_lat</th>\n",
       "      <th>end_lng</th>\n",
       "      <th>member_casual</th>\n",
       "    </tr>\n",
       "  </thead>\n",
       "  <tbody>\n",
       "    <tr>\n",
       "      <th>0</th>\n",
       "      <td>46F8167220E4431F</td>\n",
       "      <td>electric_bike</td>\n",
       "      <td>2021-12-07 15:06:07</td>\n",
       "      <td>2021-12-07 15:13:42</td>\n",
       "      <td>Laflin St &amp; Cullerton St</td>\n",
       "      <td>13307</td>\n",
       "      <td>Morgan St &amp; Polk St</td>\n",
       "      <td>TA1307000130</td>\n",
       "      <td>41.854833</td>\n",
       "      <td>-87.663660</td>\n",
       "      <td>41.871969</td>\n",
       "      <td>-87.650965</td>\n",
       "      <td>member</td>\n",
       "    </tr>\n",
       "    <tr>\n",
       "      <th>1</th>\n",
       "      <td>73A77762838B32FD</td>\n",
       "      <td>electric_bike</td>\n",
       "      <td>2021-12-11 03:43:29</td>\n",
       "      <td>2021-12-11 04:10:23</td>\n",
       "      <td>LaSalle Dr &amp; Huron St</td>\n",
       "      <td>KP1705001026</td>\n",
       "      <td>Clarendon Ave &amp; Leland Ave</td>\n",
       "      <td>TA1307000119</td>\n",
       "      <td>41.894405</td>\n",
       "      <td>-87.632331</td>\n",
       "      <td>41.967968</td>\n",
       "      <td>-87.650001</td>\n",
       "      <td>casual</td>\n",
       "    </tr>\n",
       "  </tbody>\n",
       "</table>\n",
       "</div>"
      ],
      "text/plain": [
       "            ride_id  rideable_type           started_at             ended_at  \\\n",
       "0  46F8167220E4431F  electric_bike  2021-12-07 15:06:07  2021-12-07 15:13:42   \n",
       "1  73A77762838B32FD  electric_bike  2021-12-11 03:43:29  2021-12-11 04:10:23   \n",
       "\n",
       "         start_station_name start_station_id            end_station_name  \\\n",
       "0  Laflin St & Cullerton St            13307         Morgan St & Polk St   \n",
       "1     LaSalle Dr & Huron St     KP1705001026  Clarendon Ave & Leland Ave   \n",
       "\n",
       "  end_station_id  start_lat  start_lng    end_lat    end_lng member_casual  \n",
       "0   TA1307000130  41.854833 -87.663660  41.871969 -87.650965        member  \n",
       "1   TA1307000119  41.894405 -87.632331  41.967968 -87.650001        casual  "
      ]
     },
     "execution_count": 4,
     "metadata": {},
     "output_type": "execute_result"
    }
   ],
   "source": [
    "dec.head(2)"
   ]
  },
  {
   "cell_type": "code",
   "execution_count": 5,
   "id": "b433bd4d",
   "metadata": {
    "execution": {
     "iopub.execute_input": "2023-07-03T12:41:45.620816Z",
     "iopub.status.busy": "2023-07-03T12:41:45.620433Z",
     "iopub.status.idle": "2023-07-03T12:41:45.930285Z",
     "shell.execute_reply": "2023-07-03T12:41:45.928556Z"
    },
    "papermill": {
     "duration": 0.333514,
     "end_time": "2023-07-03T12:41:45.933329",
     "exception": false,
     "start_time": "2023-07-03T12:41:45.599815",
     "status": "completed"
    },
    "tags": []
   },
   "outputs": [
    {
     "name": "stdout",
     "output_type": "stream",
     "text": [
      "<class 'pandas.core.frame.DataFrame'>\n",
      "RangeIndex: 96834 entries, 0 to 96833\n",
      "Data columns (total 13 columns):\n",
      " #   Column              Non-Null Count  Dtype  \n",
      "---  ------              --------------  -----  \n",
      " 0   ride_id             96834 non-null  object \n",
      " 1   rideable_type       96834 non-null  object \n",
      " 2   started_at          96834 non-null  object \n",
      " 3   ended_at            96834 non-null  object \n",
      " 4   start_station_name  88209 non-null  object \n",
      " 5   start_station_id    88209 non-null  object \n",
      " 6   end_station_name    86557 non-null  object \n",
      " 7   end_station_id      86557 non-null  object \n",
      " 8   start_lat           96834 non-null  float64\n",
      " 9   start_lng           96834 non-null  float64\n",
      " 10  end_lat             96731 non-null  float64\n",
      " 11  end_lng             96731 non-null  float64\n",
      " 12  member_casual       96834 non-null  object \n",
      "dtypes: float64(4), object(9)\n",
      "memory usage: 9.6+ MB\n"
     ]
    }
   ],
   "source": [
    "jan.info()"
   ]
  },
  {
   "cell_type": "code",
   "execution_count": 6,
   "id": "bebf2287",
   "metadata": {
    "execution": {
     "iopub.execute_input": "2023-07-03T12:41:45.975508Z",
     "iopub.status.busy": "2023-07-03T12:41:45.973928Z",
     "iopub.status.idle": "2023-07-03T12:41:48.133353Z",
     "shell.execute_reply": "2023-07-03T12:41:48.131840Z"
    },
    "papermill": {
     "duration": 2.18396,
     "end_time": "2023-07-03T12:41:48.136648",
     "exception": false,
     "start_time": "2023-07-03T12:41:45.952688",
     "status": "completed"
    },
    "tags": []
   },
   "outputs": [],
   "source": [
    "df = pd.concat([jan, feb, mar, apr, may, jun, jul, aug, sep, oct, nov, dec])"
   ]
  },
  {
   "cell_type": "code",
   "execution_count": 7,
   "id": "3b511e58",
   "metadata": {
    "execution": {
     "iopub.execute_input": "2023-07-03T12:41:48.180133Z",
     "iopub.status.busy": "2023-07-03T12:41:48.178576Z",
     "iopub.status.idle": "2023-07-03T12:41:48.192689Z",
     "shell.execute_reply": "2023-07-03T12:41:48.191790Z"
    },
    "papermill": {
     "duration": 0.038886,
     "end_time": "2023-07-03T12:41:48.194976",
     "exception": false,
     "start_time": "2023-07-03T12:41:48.156090",
     "status": "completed"
    },
    "tags": []
   },
   "outputs": [
    {
     "name": "stdout",
     "output_type": "stream",
     "text": [
      "<class 'pandas.core.frame.DataFrame'>\n",
      "Index: 5595063 entries, 0 to 247539\n",
      "Data columns (total 13 columns):\n",
      " #   Column              Dtype  \n",
      "---  ------              -----  \n",
      " 0   ride_id             object \n",
      " 1   rideable_type       object \n",
      " 2   started_at          object \n",
      " 3   ended_at            object \n",
      " 4   start_station_name  object \n",
      " 5   start_station_id    object \n",
      " 6   end_station_name    object \n",
      " 7   end_station_id      object \n",
      " 8   start_lat           float64\n",
      " 9   start_lng           float64\n",
      " 10  end_lat             float64\n",
      " 11  end_lng             float64\n",
      " 12  member_casual       object \n",
      "dtypes: float64(4), object(9)\n",
      "memory usage: 597.6+ MB\n"
     ]
    }
   ],
   "source": [
    "df.info()"
   ]
  },
  {
   "cell_type": "markdown",
   "id": "0aea8cc0",
   "metadata": {
    "papermill": {
     "duration": 0.021224,
     "end_time": "2023-07-03T12:41:48.236516",
     "exception": false,
     "start_time": "2023-07-03T12:41:48.215292",
     "status": "completed"
    },
    "tags": []
   },
   "source": [
    "### The Data type of 'start_station_id' and 'end_station_id' is not 'object'. we need to convert it to object"
   ]
  },
  {
   "cell_type": "code",
   "execution_count": 8,
   "id": "4cc593c3",
   "metadata": {
    "execution": {
     "iopub.execute_input": "2023-07-03T12:41:48.280146Z",
     "iopub.status.busy": "2023-07-03T12:41:48.279373Z",
     "iopub.status.idle": "2023-07-03T12:41:52.443356Z",
     "shell.execute_reply": "2023-07-03T12:41:52.441708Z"
    },
    "papermill": {
     "duration": 4.18847,
     "end_time": "2023-07-03T12:41:52.446257",
     "exception": false,
     "start_time": "2023-07-03T12:41:48.257787",
     "status": "completed"
    },
    "tags": []
   },
   "outputs": [],
   "source": [
    "df['start_station_id'] = df['start_station_id'].apply(str)\n",
    "df['end_station_id'] = df['start_station_id'].apply(str)"
   ]
  },
  {
   "cell_type": "code",
   "execution_count": 9,
   "id": "725c8222",
   "metadata": {
    "execution": {
     "iopub.execute_input": "2023-07-03T12:41:52.488190Z",
     "iopub.status.busy": "2023-07-03T12:41:52.487703Z",
     "iopub.status.idle": "2023-07-03T12:41:52.501312Z",
     "shell.execute_reply": "2023-07-03T12:41:52.500048Z"
    },
    "papermill": {
     "duration": 0.037781,
     "end_time": "2023-07-03T12:41:52.504213",
     "exception": false,
     "start_time": "2023-07-03T12:41:52.466432",
     "status": "completed"
    },
    "tags": []
   },
   "outputs": [
    {
     "name": "stdout",
     "output_type": "stream",
     "text": [
      "<class 'pandas.core.frame.DataFrame'>\n",
      "Index: 5595063 entries, 0 to 247539\n",
      "Data columns (total 13 columns):\n",
      " #   Column              Dtype  \n",
      "---  ------              -----  \n",
      " 0   ride_id             object \n",
      " 1   rideable_type       object \n",
      " 2   started_at          object \n",
      " 3   ended_at            object \n",
      " 4   start_station_name  object \n",
      " 5   start_station_id    object \n",
      " 6   end_station_name    object \n",
      " 7   end_station_id      object \n",
      " 8   start_lat           float64\n",
      " 9   start_lng           float64\n",
      " 10  end_lat             float64\n",
      " 11  end_lng             float64\n",
      " 12  member_casual       object \n",
      "dtypes: float64(4), object(9)\n",
      "memory usage: 597.6+ MB\n"
     ]
    }
   ],
   "source": [
    "df.info()"
   ]
  },
  {
   "cell_type": "code",
   "execution_count": 10,
   "id": "3c3af860",
   "metadata": {
    "execution": {
     "iopub.execute_input": "2023-07-03T12:41:52.546396Z",
     "iopub.status.busy": "2023-07-03T12:41:52.545902Z",
     "iopub.status.idle": "2023-07-03T12:41:53.471369Z",
     "shell.execute_reply": "2023-07-03T12:41:53.469977Z"
    },
    "papermill": {
     "duration": 0.949732,
     "end_time": "2023-07-03T12:41:53.474369",
     "exception": false,
     "start_time": "2023-07-03T12:41:52.524637",
     "status": "completed"
    },
    "tags": []
   },
   "outputs": [],
   "source": [
    "bike_share = pd.concat([df])"
   ]
  },
  {
   "cell_type": "code",
   "execution_count": 11,
   "id": "4099f533",
   "metadata": {
    "execution": {
     "iopub.execute_input": "2023-07-03T12:41:53.515846Z",
     "iopub.status.busy": "2023-07-03T12:41:53.515368Z",
     "iopub.status.idle": "2023-07-03T12:41:53.539355Z",
     "shell.execute_reply": "2023-07-03T12:41:53.538040Z"
    },
    "papermill": {
     "duration": 0.047717,
     "end_time": "2023-07-03T12:41:53.541992",
     "exception": false,
     "start_time": "2023-07-03T12:41:53.494275",
     "status": "completed"
    },
    "tags": []
   },
   "outputs": [
    {
     "data": {
      "text/html": [
       "<div>\n",
       "<style scoped>\n",
       "    .dataframe tbody tr th:only-of-type {\n",
       "        vertical-align: middle;\n",
       "    }\n",
       "\n",
       "    .dataframe tbody tr th {\n",
       "        vertical-align: top;\n",
       "    }\n",
       "\n",
       "    .dataframe thead th {\n",
       "        text-align: right;\n",
       "    }\n",
       "</style>\n",
       "<table border=\"1\" class=\"dataframe\">\n",
       "  <thead>\n",
       "    <tr style=\"text-align: right;\">\n",
       "      <th></th>\n",
       "      <th>ride_id</th>\n",
       "      <th>rideable_type</th>\n",
       "      <th>started_at</th>\n",
       "      <th>ended_at</th>\n",
       "      <th>start_station_name</th>\n",
       "      <th>start_station_id</th>\n",
       "      <th>end_station_name</th>\n",
       "      <th>end_station_id</th>\n",
       "      <th>start_lat</th>\n",
       "      <th>start_lng</th>\n",
       "      <th>end_lat</th>\n",
       "      <th>end_lng</th>\n",
       "      <th>member_casual</th>\n",
       "    </tr>\n",
       "  </thead>\n",
       "  <tbody>\n",
       "    <tr>\n",
       "      <th>0</th>\n",
       "      <td>E19E6F1B8D4C42ED</td>\n",
       "      <td>electric_bike</td>\n",
       "      <td>2021-01-23 16:14:19</td>\n",
       "      <td>2021-01-23 16:24:44</td>\n",
       "      <td>California Ave &amp; Cortez St</td>\n",
       "      <td>17660</td>\n",
       "      <td>NaN</td>\n",
       "      <td>17660</td>\n",
       "      <td>41.900341</td>\n",
       "      <td>-87.696743</td>\n",
       "      <td>41.89</td>\n",
       "      <td>-87.72</td>\n",
       "      <td>member</td>\n",
       "    </tr>\n",
       "    <tr>\n",
       "      <th>1</th>\n",
       "      <td>DC88F20C2C55F27F</td>\n",
       "      <td>electric_bike</td>\n",
       "      <td>2021-01-27 18:43:08</td>\n",
       "      <td>2021-01-27 18:47:12</td>\n",
       "      <td>California Ave &amp; Cortez St</td>\n",
       "      <td>17660</td>\n",
       "      <td>NaN</td>\n",
       "      <td>17660</td>\n",
       "      <td>41.900333</td>\n",
       "      <td>-87.696707</td>\n",
       "      <td>41.90</td>\n",
       "      <td>-87.69</td>\n",
       "      <td>member</td>\n",
       "    </tr>\n",
       "    <tr>\n",
       "      <th>2</th>\n",
       "      <td>EC45C94683FE3F27</td>\n",
       "      <td>electric_bike</td>\n",
       "      <td>2021-01-21 22:35:54</td>\n",
       "      <td>2021-01-21 22:37:14</td>\n",
       "      <td>California Ave &amp; Cortez St</td>\n",
       "      <td>17660</td>\n",
       "      <td>NaN</td>\n",
       "      <td>17660</td>\n",
       "      <td>41.900313</td>\n",
       "      <td>-87.696643</td>\n",
       "      <td>41.90</td>\n",
       "      <td>-87.70</td>\n",
       "      <td>member</td>\n",
       "    </tr>\n",
       "    <tr>\n",
       "      <th>3</th>\n",
       "      <td>4FA453A75AE377DB</td>\n",
       "      <td>electric_bike</td>\n",
       "      <td>2021-01-07 13:31:13</td>\n",
       "      <td>2021-01-07 13:42:55</td>\n",
       "      <td>California Ave &amp; Cortez St</td>\n",
       "      <td>17660</td>\n",
       "      <td>NaN</td>\n",
       "      <td>17660</td>\n",
       "      <td>41.900399</td>\n",
       "      <td>-87.696662</td>\n",
       "      <td>41.92</td>\n",
       "      <td>-87.69</td>\n",
       "      <td>member</td>\n",
       "    </tr>\n",
       "    <tr>\n",
       "      <th>4</th>\n",
       "      <td>BE5E8EB4E7263A0B</td>\n",
       "      <td>electric_bike</td>\n",
       "      <td>2021-01-23 02:24:02</td>\n",
       "      <td>2021-01-23 02:24:45</td>\n",
       "      <td>California Ave &amp; Cortez St</td>\n",
       "      <td>17660</td>\n",
       "      <td>NaN</td>\n",
       "      <td>17660</td>\n",
       "      <td>41.900326</td>\n",
       "      <td>-87.696697</td>\n",
       "      <td>41.90</td>\n",
       "      <td>-87.70</td>\n",
       "      <td>casual</td>\n",
       "    </tr>\n",
       "  </tbody>\n",
       "</table>\n",
       "</div>"
      ],
      "text/plain": [
       "            ride_id  rideable_type           started_at             ended_at  \\\n",
       "0  E19E6F1B8D4C42ED  electric_bike  2021-01-23 16:14:19  2021-01-23 16:24:44   \n",
       "1  DC88F20C2C55F27F  electric_bike  2021-01-27 18:43:08  2021-01-27 18:47:12   \n",
       "2  EC45C94683FE3F27  electric_bike  2021-01-21 22:35:54  2021-01-21 22:37:14   \n",
       "3  4FA453A75AE377DB  electric_bike  2021-01-07 13:31:13  2021-01-07 13:42:55   \n",
       "4  BE5E8EB4E7263A0B  electric_bike  2021-01-23 02:24:02  2021-01-23 02:24:45   \n",
       "\n",
       "           start_station_name start_station_id end_station_name  \\\n",
       "0  California Ave & Cortez St            17660              NaN   \n",
       "1  California Ave & Cortez St            17660              NaN   \n",
       "2  California Ave & Cortez St            17660              NaN   \n",
       "3  California Ave & Cortez St            17660              NaN   \n",
       "4  California Ave & Cortez St            17660              NaN   \n",
       "\n",
       "  end_station_id  start_lat  start_lng  end_lat  end_lng member_casual  \n",
       "0          17660  41.900341 -87.696743    41.89   -87.72        member  \n",
       "1          17660  41.900333 -87.696707    41.90   -87.69        member  \n",
       "2          17660  41.900313 -87.696643    41.90   -87.70        member  \n",
       "3          17660  41.900399 -87.696662    41.92   -87.69        member  \n",
       "4          17660  41.900326 -87.696697    41.90   -87.70        casual  "
      ]
     },
     "execution_count": 11,
     "metadata": {},
     "output_type": "execute_result"
    }
   ],
   "source": [
    "bike_share.head()"
   ]
  },
  {
   "cell_type": "code",
   "execution_count": 12,
   "id": "a67b5c42",
   "metadata": {
    "execution": {
     "iopub.execute_input": "2023-07-03T12:41:53.586468Z",
     "iopub.status.busy": "2023-07-03T12:41:53.586037Z",
     "iopub.status.idle": "2023-07-03T12:41:53.599485Z",
     "shell.execute_reply": "2023-07-03T12:41:53.598001Z"
    },
    "papermill": {
     "duration": 0.039821,
     "end_time": "2023-07-03T12:41:53.602999",
     "exception": false,
     "start_time": "2023-07-03T12:41:53.563178",
     "status": "completed"
    },
    "tags": []
   },
   "outputs": [
    {
     "name": "stdout",
     "output_type": "stream",
     "text": [
      "<class 'pandas.core.frame.DataFrame'>\n",
      "Index: 5595063 entries, 0 to 247539\n",
      "Data columns (total 13 columns):\n",
      " #   Column              Dtype  \n",
      "---  ------              -----  \n",
      " 0   ride_id             object \n",
      " 1   rideable_type       object \n",
      " 2   started_at          object \n",
      " 3   ended_at            object \n",
      " 4   start_station_name  object \n",
      " 5   start_station_id    object \n",
      " 6   end_station_name    object \n",
      " 7   end_station_id      object \n",
      " 8   start_lat           float64\n",
      " 9   start_lng           float64\n",
      " 10  end_lat             float64\n",
      " 11  end_lng             float64\n",
      " 12  member_casual       object \n",
      "dtypes: float64(4), object(9)\n",
      "memory usage: 597.6+ MB\n"
     ]
    }
   ],
   "source": [
    "bike_share.info()"
   ]
  },
  {
   "cell_type": "markdown",
   "id": "d2b7eacb",
   "metadata": {
    "papermill": {
     "duration": 0.019942,
     "end_time": "2023-07-03T12:41:53.642642",
     "exception": false,
     "start_time": "2023-07-03T12:41:53.622700",
     "status": "completed"
    },
    "tags": []
   },
   "source": [
    "# Data Processing\n",
    "### We will look for the null values and duplicates in the dataset to remove them."
   ]
  },
  {
   "cell_type": "code",
   "execution_count": 13,
   "id": "32e991b5",
   "metadata": {
    "execution": {
     "iopub.execute_input": "2023-07-03T12:41:53.685180Z",
     "iopub.status.busy": "2023-07-03T12:41:53.684706Z",
     "iopub.status.idle": "2023-07-03T12:42:09.463832Z",
     "shell.execute_reply": "2023-07-03T12:42:09.462337Z"
    },
    "papermill": {
     "duration": 15.803691,
     "end_time": "2023-07-03T12:42:09.466515",
     "exception": false,
     "start_time": "2023-07-03T12:41:53.662824",
     "status": "completed"
    },
    "tags": []
   },
   "outputs": [
    {
     "data": {
      "text/plain": [
       "ride_id                    0\n",
       "rideable_type              0\n",
       "started_at                 0\n",
       "ended_at                   0\n",
       "start_station_name    690809\n",
       "start_station_id           0\n",
       "end_station_name      739170\n",
       "end_station_id             0\n",
       "start_lat                  0\n",
       "start_lng                  0\n",
       "end_lat                 4771\n",
       "end_lng                 4771\n",
       "member_casual              0\n",
       "dtype: int64"
      ]
     },
     "execution_count": 13,
     "metadata": {},
     "output_type": "execute_result"
    }
   ],
   "source": [
    "bike_share.isnull().sum()"
   ]
  },
  {
   "cell_type": "code",
   "execution_count": 14,
   "id": "870e03fe",
   "metadata": {
    "execution": {
     "iopub.execute_input": "2023-07-03T12:42:09.510084Z",
     "iopub.status.busy": "2023-07-03T12:42:09.508639Z",
     "iopub.status.idle": "2023-07-03T12:42:09.518325Z",
     "shell.execute_reply": "2023-07-03T12:42:09.516481Z"
    },
    "papermill": {
     "duration": 0.034627,
     "end_time": "2023-07-03T12:42:09.521269",
     "exception": false,
     "start_time": "2023-07-03T12:42:09.486642",
     "status": "completed"
    },
    "tags": []
   },
   "outputs": [
    {
     "data": {
      "text/plain": [
       "(5595063, 13)"
      ]
     },
     "execution_count": 14,
     "metadata": {},
     "output_type": "execute_result"
    }
   ],
   "source": [
    "bike_share.shape"
   ]
  },
  {
   "cell_type": "code",
   "execution_count": 15,
   "id": "d3dc3799",
   "metadata": {
    "execution": {
     "iopub.execute_input": "2023-07-03T12:42:09.565588Z",
     "iopub.status.busy": "2023-07-03T12:42:09.565132Z",
     "iopub.status.idle": "2023-07-03T12:42:25.787461Z",
     "shell.execute_reply": "2023-07-03T12:42:25.785968Z"
    },
    "papermill": {
     "duration": 16.248194,
     "end_time": "2023-07-03T12:42:25.790957",
     "exception": false,
     "start_time": "2023-07-03T12:42:09.542763",
     "status": "completed"
    },
    "tags": []
   },
   "outputs": [
    {
     "data": {
      "text/plain": [
       "ride_id                0.000000\n",
       "rideable_type          0.000000\n",
       "started_at             0.000000\n",
       "ended_at               0.000000\n",
       "start_station_name    12.346760\n",
       "start_station_id       0.000000\n",
       "end_station_name      13.211111\n",
       "end_station_id         0.000000\n",
       "start_lat              0.000000\n",
       "start_lng              0.000000\n",
       "end_lat                0.085272\n",
       "end_lng                0.085272\n",
       "member_casual          0.000000\n",
       "dtype: float64"
      ]
     },
     "execution_count": 15,
     "metadata": {},
     "output_type": "execute_result"
    }
   ],
   "source": [
    "(bike_share.isna().sum()/5595063) * 100"
   ]
  },
  {
   "cell_type": "markdown",
   "id": "889944d3",
   "metadata": {
    "papermill": {
     "duration": 0.023178,
     "end_time": "2023-07-03T12:42:25.836151",
     "exception": false,
     "start_time": "2023-07-03T12:42:25.812973",
     "status": "completed"
    },
    "tags": []
   },
   "source": [
    "### The missing values are less than 15%. We can remove them and continue with our analysis."
   ]
  },
  {
   "cell_type": "code",
   "execution_count": null,
   "id": "e351ad20",
   "metadata": {
    "execution": {
     "iopub.execute_input": "2023-07-03T12:42:25.882897Z",
     "iopub.status.busy": "2023-07-03T12:42:25.881877Z",
     "iopub.status.idle": "2023-07-03T12:42:45.472296Z",
     "shell.execute_reply": "2023-07-03T12:42:45.470800Z"
    },
    "papermill": {
     "duration": 19.615964,
     "end_time": "2023-07-03T12:42:45.475319",
     "exception": false,
     "start_time": "2023-07-03T12:42:25.859355",
     "status": "completed"
    },
    "tags": []
   },
   "outputs": [],
   "source": [
    "bike_share.dropna(axis=0, inplace=True)"
   ]
  },
  {
   "cell_type": "code",
   "execution_count": null,
   "id": "989ffaa9",
   "metadata": {
    "execution": {
     "iopub.execute_input": "2023-07-03T12:42:45.521989Z",
     "iopub.status.busy": "2023-07-03T12:42:45.521512Z",
     "iopub.status.idle": "2023-07-03T12:42:58.349195Z",
     "shell.execute_reply": "2023-07-03T12:42:58.347950Z"
    },
    "papermill": {
     "duration": 12.854305,
     "end_time": "2023-07-03T12:42:58.352486",
     "exception": false,
     "start_time": "2023-07-03T12:42:45.498181",
     "status": "completed"
    },
    "tags": []
   },
   "outputs": [],
   "source": [
    "bike_share.isnull().sum()"
   ]
  },
  {
   "cell_type": "code",
   "execution_count": null,
   "id": "fa2c1879",
   "metadata": {
    "execution": {
     "iopub.execute_input": "2023-07-03T12:42:58.399717Z",
     "iopub.status.busy": "2023-07-03T12:42:58.399208Z",
     "iopub.status.idle": "2023-07-03T12:43:20.863329Z",
     "shell.execute_reply": "2023-07-03T12:43:20.861893Z"
    },
    "papermill": {
     "duration": 22.492017,
     "end_time": "2023-07-03T12:43:20.866535",
     "exception": false,
     "start_time": "2023-07-03T12:42:58.374518",
     "status": "completed"
    },
    "tags": []
   },
   "outputs": [],
   "source": [
    "bike_share[bike_share.duplicated()]"
   ]
  },
  {
   "cell_type": "markdown",
   "id": "1f23bc05",
   "metadata": {
    "papermill": {
     "duration": 0.02115,
     "end_time": "2023-07-03T12:43:20.909354",
     "exception": false,
     "start_time": "2023-07-03T12:43:20.888204",
     "status": "completed"
    },
    "tags": []
   },
   "source": [
    "### Let's convert columns 'started_at' and 'ended_at' to 'datetime' Datatype."
   ]
  },
  {
   "cell_type": "code",
   "execution_count": null,
   "id": "c1c24303",
   "metadata": {
    "execution": {
     "iopub.execute_input": "2023-07-03T12:43:20.956747Z",
     "iopub.status.busy": "2023-07-03T12:43:20.956300Z",
     "iopub.status.idle": "2023-07-03T12:43:23.469261Z",
     "shell.execute_reply": "2023-07-03T12:43:23.467862Z"
    },
    "papermill": {
     "duration": 2.54012,
     "end_time": "2023-07-03T12:43:23.472436",
     "exception": false,
     "start_time": "2023-07-03T12:43:20.932316",
     "status": "completed"
    },
    "tags": []
   },
   "outputs": [],
   "source": [
    "bike_share['started_at'] = pd.to_datetime(bike_share['started_at'], dayfirst=True)"
   ]
  },
  {
   "cell_type": "code",
   "execution_count": null,
   "id": "d1b203b0",
   "metadata": {
    "execution": {
     "iopub.execute_input": "2023-07-03T12:43:23.521363Z",
     "iopub.status.busy": "2023-07-03T12:43:23.520808Z",
     "iopub.status.idle": "2023-07-03T12:43:25.889734Z",
     "shell.execute_reply": "2023-07-03T12:43:25.888282Z"
    },
    "papermill": {
     "duration": 2.396006,
     "end_time": "2023-07-03T12:43:25.892976",
     "exception": false,
     "start_time": "2023-07-03T12:43:23.496970",
     "status": "completed"
    },
    "tags": []
   },
   "outputs": [],
   "source": [
    "bike_share['ended_at'] = pd.to_datetime(bike_share['ended_at'], dayfirst=True)"
   ]
  },
  {
   "cell_type": "code",
   "execution_count": null,
   "id": "1ea2bd45",
   "metadata": {
    "execution": {
     "iopub.execute_input": "2023-07-03T12:43:25.942727Z",
     "iopub.status.busy": "2023-07-03T12:43:25.942286Z",
     "iopub.status.idle": "2023-07-03T12:43:25.956866Z",
     "shell.execute_reply": "2023-07-03T12:43:25.954862Z"
    },
    "papermill": {
     "duration": 0.041741,
     "end_time": "2023-07-03T12:43:25.959902",
     "exception": false,
     "start_time": "2023-07-03T12:43:25.918161",
     "status": "completed"
    },
    "tags": []
   },
   "outputs": [],
   "source": [
    "bike_share.info()"
   ]
  },
  {
   "cell_type": "markdown",
   "id": "3c717e38",
   "metadata": {
    "papermill": {
     "duration": 0.029798,
     "end_time": "2023-07-03T12:43:26.011507",
     "exception": false,
     "start_time": "2023-07-03T12:43:25.981709",
     "status": "completed"
    },
    "tags": []
   },
   "source": [
    "### Now, we will start creating new columns for 'Hour', 'Day' and 'Month'."
   ]
  },
  {
   "cell_type": "code",
   "execution_count": null,
   "id": "9c609804",
   "metadata": {
    "execution": {
     "iopub.execute_input": "2023-07-03T12:43:26.063642Z",
     "iopub.status.busy": "2023-07-03T12:43:26.063162Z",
     "iopub.status.idle": "2023-07-03T12:44:47.819057Z",
     "shell.execute_reply": "2023-07-03T12:44:47.817143Z"
    },
    "papermill": {
     "duration": 81.784922,
     "end_time": "2023-07-03T12:44:47.822727",
     "exception": false,
     "start_time": "2023-07-03T12:43:26.037805",
     "status": "completed"
    },
    "tags": []
   },
   "outputs": [],
   "source": [
    "bike_share['Hour'] = bike_share.started_at.apply(lambda x: x.hour)\n",
    "bike_share['Day'] = bike_share.started_at.apply(lambda x: x.day_name())\n",
    "bike_share['Month'] = bike_share.started_at.apply(lambda x: x.month)"
   ]
  },
  {
   "cell_type": "code",
   "execution_count": null,
   "id": "54c5f13a",
   "metadata": {
    "execution": {
     "iopub.execute_input": "2023-07-03T12:44:47.866818Z",
     "iopub.status.busy": "2023-07-03T12:44:47.866366Z",
     "iopub.status.idle": "2023-07-03T12:44:47.891754Z",
     "shell.execute_reply": "2023-07-03T12:44:47.890260Z"
    },
    "papermill": {
     "duration": 0.050735,
     "end_time": "2023-07-03T12:44:47.894699",
     "exception": false,
     "start_time": "2023-07-03T12:44:47.843964",
     "status": "completed"
    },
    "tags": []
   },
   "outputs": [],
   "source": [
    "bike_share.tail()"
   ]
  },
  {
   "cell_type": "markdown",
   "id": "8bd51cb3",
   "metadata": {
    "papermill": {
     "duration": 0.021753,
     "end_time": "2023-07-03T12:44:47.938483",
     "exception": false,
     "start_time": "2023-07-03T12:44:47.916730",
     "status": "completed"
    },
    "tags": []
   },
   "source": [
    "### Let's calculate 'Total_Ride_Time' in minutes."
   ]
  },
  {
   "cell_type": "code",
   "execution_count": null,
   "id": "9fad4279",
   "metadata": {
    "execution": {
     "iopub.execute_input": "2023-07-03T12:44:47.982594Z",
     "iopub.status.busy": "2023-07-03T12:44:47.981978Z",
     "iopub.status.idle": "2023-07-03T12:44:47.988720Z",
     "shell.execute_reply": "2023-07-03T12:44:47.987180Z"
    },
    "papermill": {
     "duration": 0.032218,
     "end_time": "2023-07-03T12:44:47.991602",
     "exception": false,
     "start_time": "2023-07-03T12:44:47.959384",
     "status": "completed"
    },
    "tags": []
   },
   "outputs": [],
   "source": [
    "import datetime as datetime\n",
    "from datetime import timedelta"
   ]
  },
  {
   "cell_type": "code",
   "execution_count": null,
   "id": "a56e348d",
   "metadata": {
    "execution": {
     "iopub.execute_input": "2023-07-03T12:44:48.040333Z",
     "iopub.status.busy": "2023-07-03T12:44:48.039847Z",
     "iopub.status.idle": "2023-07-03T12:44:48.167265Z",
     "shell.execute_reply": "2023-07-03T12:44:48.165736Z"
    },
    "papermill": {
     "duration": 0.154051,
     "end_time": "2023-07-03T12:44:48.170524",
     "exception": false,
     "start_time": "2023-07-03T12:44:48.016473",
     "status": "completed"
    },
    "tags": []
   },
   "outputs": [],
   "source": [
    "# Total_Ride_Time in minutes\n",
    "bike_share['Total_Ride_Time'] = (bike_share['ended_at'] - bike_share['started_at'])"
   ]
  },
  {
   "cell_type": "code",
   "execution_count": null,
   "id": "2154fdb3",
   "metadata": {
    "execution": {
     "iopub.execute_input": "2023-07-03T12:44:48.218203Z",
     "iopub.status.busy": "2023-07-03T12:44:48.217651Z",
     "iopub.status.idle": "2023-07-03T12:44:48.272590Z",
     "shell.execute_reply": "2023-07-03T12:44:48.271202Z"
    },
    "papermill": {
     "duration": 0.082975,
     "end_time": "2023-07-03T12:44:48.275437",
     "exception": false,
     "start_time": "2023-07-03T12:44:48.192462",
     "status": "completed"
    },
    "tags": []
   },
   "outputs": [],
   "source": [
    "bike_share['Total_Ride_Time'] = (bike_share['Total_Ride_Time'])/timedelta(minutes=1)"
   ]
  },
  {
   "cell_type": "code",
   "execution_count": null,
   "id": "6b2c4275",
   "metadata": {
    "execution": {
     "iopub.execute_input": "2023-07-03T12:44:48.322138Z",
     "iopub.status.busy": "2023-07-03T12:44:48.321707Z",
     "iopub.status.idle": "2023-07-03T12:44:48.370797Z",
     "shell.execute_reply": "2023-07-03T12:44:48.369851Z"
    },
    "papermill": {
     "duration": 0.075499,
     "end_time": "2023-07-03T12:44:48.373635",
     "exception": false,
     "start_time": "2023-07-03T12:44:48.298136",
     "status": "completed"
    },
    "tags": []
   },
   "outputs": [],
   "source": [
    "bike_share['Total_Ride_Time'] = bike_share['Total_Ride_Time'].round(decimals = 1)"
   ]
  },
  {
   "cell_type": "code",
   "execution_count": null,
   "id": "f67107ed",
   "metadata": {
    "execution": {
     "iopub.execute_input": "2023-07-03T12:44:48.418002Z",
     "iopub.status.busy": "2023-07-03T12:44:48.417284Z",
     "iopub.status.idle": "2023-07-03T12:44:48.439622Z",
     "shell.execute_reply": "2023-07-03T12:44:48.438433Z"
    },
    "papermill": {
     "duration": 0.047745,
     "end_time": "2023-07-03T12:44:48.442472",
     "exception": false,
     "start_time": "2023-07-03T12:44:48.394727",
     "status": "completed"
    },
    "tags": []
   },
   "outputs": [],
   "source": [
    "bike_share.head()"
   ]
  },
  {
   "cell_type": "markdown",
   "id": "02da7ac1",
   "metadata": {
    "papermill": {
     "duration": 0.02229,
     "end_time": "2023-07-03T12:44:48.486629",
     "exception": false,
     "start_time": "2023-07-03T12:44:48.464339",
     "status": "completed"
    },
    "tags": []
   },
   "source": [
    "### Let's calculate the ride distance in Kms from given coordinates."
   ]
  },
  {
   "cell_type": "code",
   "execution_count": null,
   "id": "de009c14",
   "metadata": {
    "execution": {
     "iopub.execute_input": "2023-07-03T12:44:48.534070Z",
     "iopub.status.busy": "2023-07-03T12:44:48.533341Z",
     "iopub.status.idle": "2023-07-03T12:44:48.612153Z",
     "shell.execute_reply": "2023-07-03T12:44:48.611311Z"
    },
    "papermill": {
     "duration": 0.105881,
     "end_time": "2023-07-03T12:44:48.614958",
     "exception": false,
     "start_time": "2023-07-03T12:44:48.509077",
     "status": "completed"
    },
    "tags": []
   },
   "outputs": [],
   "source": [
    "bike_share['Lat'] = (bike_share['end_lat'] - bike_share['start_lat'])\n",
    "bike_share['Lng'] = (bike_share['end_lng'] - bike_share['start_lng'])"
   ]
  },
  {
   "cell_type": "code",
   "execution_count": null,
   "id": "f69040b2",
   "metadata": {
    "execution": {
     "iopub.execute_input": "2023-07-03T12:44:48.661056Z",
     "iopub.status.busy": "2023-07-03T12:44:48.660345Z",
     "iopub.status.idle": "2023-07-03T12:44:48.664483Z",
     "shell.execute_reply": "2023-07-03T12:44:48.663655Z"
    },
    "papermill": {
     "duration": 0.029236,
     "end_time": "2023-07-03T12:44:48.666674",
     "exception": false,
     "start_time": "2023-07-03T12:44:48.637438",
     "status": "completed"
    },
    "tags": []
   },
   "outputs": [],
   "source": [
    "import math"
   ]
  },
  {
   "cell_type": "code",
   "execution_count": null,
   "id": "b70f998a",
   "metadata": {
    "execution": {
     "iopub.execute_input": "2023-07-03T12:44:48.713315Z",
     "iopub.status.busy": "2023-07-03T12:44:48.712540Z",
     "iopub.status.idle": "2023-07-03T12:44:48.888069Z",
     "shell.execute_reply": "2023-07-03T12:44:48.886350Z"
    },
    "papermill": {
     "duration": 0.202236,
     "end_time": "2023-07-03T12:44:48.891073",
     "exception": false,
     "start_time": "2023-07-03T12:44:48.688837",
     "status": "completed"
    },
    "tags": []
   },
   "outputs": [],
   "source": [
    "bike_share['Distance'] = np.sqrt((bike_share['Lat']** 2) + (bike_share['Lng'] ** 2))"
   ]
  },
  {
   "cell_type": "code",
   "execution_count": null,
   "id": "efb55b3b",
   "metadata": {
    "execution": {
     "iopub.execute_input": "2023-07-03T12:44:48.939002Z",
     "iopub.status.busy": "2023-07-03T12:44:48.938555Z",
     "iopub.status.idle": "2023-07-03T12:44:48.985876Z",
     "shell.execute_reply": "2023-07-03T12:44:48.984521Z"
    },
    "papermill": {
     "duration": 0.07573,
     "end_time": "2023-07-03T12:44:48.989301",
     "exception": false,
     "start_time": "2023-07-03T12:44:48.913571",
     "status": "completed"
    },
    "tags": []
   },
   "outputs": [],
   "source": [
    "bike_share['Distance'] = bike_share['Distance'] * 111"
   ]
  },
  {
   "cell_type": "code",
   "execution_count": null,
   "id": "4d1359cd",
   "metadata": {
    "execution": {
     "iopub.execute_input": "2023-07-03T12:44:49.040609Z",
     "iopub.status.busy": "2023-07-03T12:44:49.040128Z",
     "iopub.status.idle": "2023-07-03T12:44:49.050051Z",
     "shell.execute_reply": "2023-07-03T12:44:49.048802Z"
    },
    "papermill": {
     "duration": 0.036697,
     "end_time": "2023-07-03T12:44:49.052791",
     "exception": false,
     "start_time": "2023-07-03T12:44:49.016094",
     "status": "completed"
    },
    "tags": []
   },
   "outputs": [],
   "source": [
    "bike_share['Distance'].head()"
   ]
  },
  {
   "cell_type": "code",
   "execution_count": null,
   "id": "b1365679",
   "metadata": {
    "execution": {
     "iopub.execute_input": "2023-07-03T12:44:49.099742Z",
     "iopub.status.busy": "2023-07-03T12:44:49.099284Z",
     "iopub.status.idle": "2023-07-03T12:44:49.126707Z",
     "shell.execute_reply": "2023-07-03T12:44:49.125465Z"
    },
    "papermill": {
     "duration": 0.054606,
     "end_time": "2023-07-03T12:44:49.129366",
     "exception": false,
     "start_time": "2023-07-03T12:44:49.074760",
     "status": "completed"
    },
    "tags": []
   },
   "outputs": [],
   "source": [
    "bike_share.head()"
   ]
  },
  {
   "cell_type": "code",
   "execution_count": null,
   "id": "4ee231ae",
   "metadata": {
    "execution": {
     "iopub.execute_input": "2023-07-03T12:44:49.175863Z",
     "iopub.status.busy": "2023-07-03T12:44:49.175440Z",
     "iopub.status.idle": "2023-07-03T12:44:49.181279Z",
     "shell.execute_reply": "2023-07-03T12:44:49.180012Z"
    },
    "papermill": {
     "duration": 0.032436,
     "end_time": "2023-07-03T12:44:49.183877",
     "exception": false,
     "start_time": "2023-07-03T12:44:49.151441",
     "status": "completed"
    },
    "tags": []
   },
   "outputs": [],
   "source": [
    "month = {1:'January', 2:'February', 3:'March', 4:'April', 5:'May', 6:'June', 7:'July', 8:'August', 9:'September', 10:'October', 11:'November', 12:'December'}"
   ]
  },
  {
   "cell_type": "code",
   "execution_count": null,
   "id": "b70c55af",
   "metadata": {
    "execution": {
     "iopub.execute_input": "2023-07-03T12:44:49.230464Z",
     "iopub.status.busy": "2023-07-03T12:44:49.229992Z",
     "iopub.status.idle": "2023-07-03T12:44:49.425149Z",
     "shell.execute_reply": "2023-07-03T12:44:49.424020Z"
    },
    "papermill": {
     "duration": 0.221829,
     "end_time": "2023-07-03T12:44:49.428161",
     "exception": false,
     "start_time": "2023-07-03T12:44:49.206332",
     "status": "completed"
    },
    "tags": []
   },
   "outputs": [],
   "source": [
    "bike_share['Month_Name'] = bike_share['Month'].map(month)"
   ]
  },
  {
   "cell_type": "markdown",
   "id": "44c7cc68",
   "metadata": {
    "papermill": {
     "duration": 0.023876,
     "end_time": "2023-07-03T12:44:49.474445",
     "exception": false,
     "start_time": "2023-07-03T12:44:49.450569",
     "status": "completed"
    },
    "tags": []
   },
   "source": [
    "# Share \n",
    "# Data Analysis and Visualization:\n",
    "In the share phase, data analysis and visualization are used to provide insightful and actionable suggestions or communicate the story within the data to stakeholders.n this case study, I created detailed visualizations that will help the stakeholders better understand the suggestions I am trying to present.Each visualization is accompanied by a concise conclusion, enabling stakeholders to grasp the key findings. By combining thorough analysis with compelling visuals, the data's story is effectively shared to inform decision-making."
   ]
  },
  {
   "cell_type": "code",
   "execution_count": null,
   "id": "f03f107d",
   "metadata": {
    "execution": {
     "iopub.execute_input": "2023-07-03T12:44:49.524427Z",
     "iopub.status.busy": "2023-07-03T12:44:49.523731Z",
     "iopub.status.idle": "2023-07-03T12:44:49.551211Z",
     "shell.execute_reply": "2023-07-03T12:44:49.550097Z"
    },
    "papermill": {
     "duration": 0.05523,
     "end_time": "2023-07-03T12:44:49.554144",
     "exception": false,
     "start_time": "2023-07-03T12:44:49.498914",
     "status": "completed"
    },
    "tags": []
   },
   "outputs": [],
   "source": [
    "bike_share.head(3)"
   ]
  },
  {
   "cell_type": "code",
   "execution_count": null,
   "id": "cbf8efc1",
   "metadata": {
    "execution": {
     "iopub.execute_input": "2023-07-03T12:44:49.602497Z",
     "iopub.status.busy": "2023-07-03T12:44:49.601058Z",
     "iopub.status.idle": "2023-07-03T12:44:50.501738Z",
     "shell.execute_reply": "2023-07-03T12:44:50.500161Z"
    },
    "papermill": {
     "duration": 0.928416,
     "end_time": "2023-07-03T12:44:50.505029",
     "exception": false,
     "start_time": "2023-07-03T12:44:49.576613",
     "status": "completed"
    },
    "tags": []
   },
   "outputs": [],
   "source": [
    "import matplotlib.pyplot as plt\n",
    "import plotly.graph_objects as go\n",
    "import plotly.express as px\n",
    "import scipy.stats as stats\n",
    "from IPython.display import display, HTML"
   ]
  },
  {
   "cell_type": "code",
   "execution_count": null,
   "id": "5502403e",
   "metadata": {
    "execution": {
     "iopub.execute_input": "2023-07-03T12:44:50.553706Z",
     "iopub.status.busy": "2023-07-03T12:44:50.553216Z",
     "iopub.status.idle": "2023-07-03T12:48:06.391742Z",
     "shell.execute_reply": "2023-07-03T12:48:06.389764Z"
    },
    "papermill": {
     "duration": 195.889705,
     "end_time": "2023-07-03T12:48:06.417622",
     "exception": false,
     "start_time": "2023-07-03T12:44:50.527917",
     "status": "completed"
    },
    "tags": []
   },
   "outputs": [],
   "source": [
    "# Set the figure size and style\n",
    "plt.figure(figsize=(8, 6))\n",
    "sns.set_style(\"whitegrid\")\n",
    "\n",
    "# Create the bar plot\n",
    "sns.barplot(x='member_casual', y='Distance', data=bike_share, palette='viridis')\n",
    "\n",
    "# Set the title and axis labels\n",
    "plt.title(\"Distance by Member Type\", fontsize=16)\n",
    "plt.xlabel(\"Member Type\", fontsize=12)\n",
    "plt.ylabel(\"Distance\", fontsize=12)\n",
    "\n",
    "# Customize the tick labels\n",
    "plt.xticks(fontsize=10)\n",
    "plt.yticks(fontsize=10)\n",
    "\n",
    "# Remove the spines\n",
    "sns.despine()\n",
    "\n",
    "# Show the plot\n",
    "plt.show()"
   ]
  },
  {
   "cell_type": "code",
   "execution_count": null,
   "id": "fa5aa7a3",
   "metadata": {
    "execution": {
     "iopub.execute_input": "2023-07-03T12:48:06.466501Z",
     "iopub.status.busy": "2023-07-03T12:48:06.466021Z",
     "iopub.status.idle": "2023-07-03T12:51:24.555651Z",
     "shell.execute_reply": "2023-07-03T12:51:24.554651Z"
    },
    "papermill": {
     "duration": 198.140759,
     "end_time": "2023-07-03T12:51:24.581674",
     "exception": false,
     "start_time": "2023-07-03T12:48:06.440915",
     "status": "completed"
    },
    "tags": []
   },
   "outputs": [],
   "source": [
    "\n",
    "# Set the figure size and style\n",
    "plt.figure(figsize=(8, 6))\n",
    "sns.set_style(\"whitegrid\")\n",
    "\n",
    "# Create the bar plot\n",
    "sns.barplot(x='member_casual', y='Total_Ride_Time', data=bike_share, palette='viridis')\n",
    "\n",
    "# Set the title and axis labels\n",
    "plt.title(\"Distance by Member Type\", fontsize=16)\n",
    "plt.xlabel(\"Member Type\", fontsize=12)\n",
    "plt.ylabel(\"Total_Ride_Time\", fontsize=12)\n",
    "\n",
    "# Customize the tick labels\n",
    "plt.xticks(fontsize=10)\n",
    "plt.yticks(fontsize=10)\n",
    "\n",
    "# Remove the spines\n",
    "sns.despine()\n",
    "\n",
    "# Show the plot\n",
    "plt.show()"
   ]
  },
  {
   "cell_type": "markdown",
   "id": "28515270",
   "metadata": {
    "papermill": {
     "duration": 0.023419,
     "end_time": "2023-07-03T12:51:24.628512",
     "exception": false,
     "start_time": "2023-07-03T12:51:24.605093",
     "status": "completed"
    },
    "tags": []
   },
   "source": [
    "* In the first plot, we observe that the casual riders have travelled longer distance than the member riders. However the second plot for 'Total Ride Time' shows casual bikers have more ride time than the member bikers.\n",
    "\n",
    "* We can conclude from the above observations that member riders have short journeys compared to casual ones. Their travel frequency is higher but travel time is lower."
   ]
  },
  {
   "cell_type": "markdown",
   "id": "749046f4",
   "metadata": {
    "papermill": {
     "duration": 0.022868,
     "end_time": "2023-07-03T12:51:24.676509",
     "exception": false,
     "start_time": "2023-07-03T12:51:24.653641",
     "status": "completed"
    },
    "tags": []
   },
   "source": [
    "**conclusion:**\n",
    "\n",
    "* **Longer Ride Times for Casual Riders**: The bar plot reveals that casual riders tend to have longer total ride times compared to members. This suggests that casual riders may use the bike-sharing service for leisure activities or longer recreational rides, whereas members may primarily use it for shorter commuting purposes. The difference in ride times highlights the distinct usage patterns and preferences between these two groups.\n",
    "\n",
    "* **Potential Marketing Opportunities**: The plot indicates an opportunity for targeted marketing efforts. The longer ride times of casual riders could be leveraged to promote special offers or tailored services for this group. By focusing on attracting and engaging casual riders, bike-sharing companies can potentially increase overall ride time and revenue. Understanding the distinct needs and preferences of each member type can help optimize marketing strategies and enhance the overall user experience."
   ]
  },
  {
   "cell_type": "code",
   "execution_count": null,
   "id": "22e1fa2e",
   "metadata": {
    "execution": {
     "iopub.execute_input": "2023-07-03T12:51:24.727956Z",
     "iopub.status.busy": "2023-07-03T12:51:24.727120Z",
     "iopub.status.idle": "2023-07-03T12:51:30.929381Z",
     "shell.execute_reply": "2023-07-03T12:51:30.927651Z"
    },
    "papermill": {
     "duration": 6.232608,
     "end_time": "2023-07-03T12:51:30.932594",
     "exception": false,
     "start_time": "2023-07-03T12:51:24.699986",
     "status": "completed"
    },
    "tags": []
   },
   "outputs": [],
   "source": [
    "import seaborn as sns\n",
    "import matplotlib.pyplot as plt\n",
    "\n",
    "plt.figure(figsize=(12, 6))\n",
    "sns.set(style='whitegrid', font_scale=1.2)\n",
    "\n",
    "ax = sns.countplot(x='Hour', hue='member_casual', data=bike_share, palette='Set1')\n",
    "\n",
    "ax.set_title('Hourly Usage by Member Type', fontsize=16)\n",
    "ax.set_xlabel('Hour', fontsize=14)\n",
    "ax.set_ylabel('Count', fontsize=14)\n",
    "ax.legend(title='Member Type', title_fontsize=12, fontsize=12)\n",
    "ax.tick_params(axis='both', labelsize=12)\n",
    "\n",
    "plt.tight_layout()\n",
    "plt.show()"
   ]
  },
  {
   "cell_type": "markdown",
   "id": "b1d237af",
   "metadata": {
    "papermill": {
     "duration": 0.025269,
     "end_time": "2023-07-03T12:51:30.983334",
     "exception": false,
     "start_time": "2023-07-03T12:51:30.958065",
     "status": "completed"
    },
    "tags": []
   },
   "source": [
    "**conclusion:**\n",
    "* **Peak Hour Disparity**: There is a noticeable difference in peak usage hours between members and casual riders. Members tend to have a more concentrated peak during commuting hours, particularly in the morning around 8-9 AM and in the evening around 5-6 PM. On the other hand, casual riders show a more evenly distributed pattern throughout the day, with relatively high usage during mid-morning and afternoon hours.\n",
    "* **Member Preference for Commuting**: The plot suggests that members predominantly use the bike-sharing service for their daily commute, as indicated by the concentrated peaks during typical commuting hours. This insight indicates that the service is primarily catering to the transportation needs of regular commuters who rely on the bikes as a convenient and efficient mode of transport for their work or study commutes."
   ]
  },
  {
   "cell_type": "code",
   "execution_count": null,
   "id": "c35bc66b",
   "metadata": {
    "execution": {
     "iopub.execute_input": "2023-07-03T12:51:31.040649Z",
     "iopub.status.busy": "2023-07-03T12:51:31.039736Z",
     "iopub.status.idle": "2023-07-03T12:51:40.757496Z",
     "shell.execute_reply": "2023-07-03T12:51:40.756643Z"
    },
    "papermill": {
     "duration": 9.747457,
     "end_time": "2023-07-03T12:51:40.760677",
     "exception": false,
     "start_time": "2023-07-03T12:51:31.013220",
     "status": "completed"
    },
    "tags": []
   },
   "outputs": [],
   "source": [
    "plt.figure(figsize=(10, 6))\n",
    "sns.set_style(\"whitegrid\")\n",
    "\n",
    "# Define the order of the days of the week\n",
    "order = [\"Monday\", \"Tuesday\", \"Wednesday\", \"Thursday\", \"Friday\", \"Saturday\", \"Sunday\"]\n",
    "\n",
    "# Create the countplot with the specified order and color palette\n",
    "ax = sns.countplot(x='Day', hue='member_casual', data=bike_share, palette='Paired', order=order)\n",
    "\n",
    "# Set the title and axis labels\n",
    "plt.title(\"Daily Usage by Member Type\", fontsize=16)\n",
    "plt.xlabel(\"Day\", fontsize=12)\n",
    "plt.ylabel(\"Count\", fontsize=12)\n",
    "\n",
    "# Customize the tick labels\n",
    "plt.xticks(fontsize=10)\n",
    "plt.yticks(fontsize=10)\n",
    "\n",
    "# Customize the legend\n",
    "ax.legend(title='Member Type', title_fontsize=12, fontsize=10)\n",
    "\n",
    "# Remove the spines\n",
    "sns.despine()\n",
    "\n",
    "# Show the plot\n",
    "plt.tight_layout()\n",
    "plt.show()"
   ]
  },
  {
   "cell_type": "markdown",
   "id": "9352f086",
   "metadata": {
    "papermill": {
     "duration": 0.027162,
     "end_time": "2023-07-03T12:51:40.814212",
     "exception": false,
     "start_time": "2023-07-03T12:51:40.787050",
     "status": "completed"
    },
    "tags": []
   },
   "source": [
    "* Casual riders are enthuasiatic on weekends as they have the highest bike usage on Saturday and Sunday.\n",
    "* Member riders have consistent use of bikes on weekdays."
   ]
  },
  {
   "cell_type": "markdown",
   "id": "2e44eb4e",
   "metadata": {
    "papermill": {
     "duration": 0.0256,
     "end_time": "2023-07-03T12:51:40.868397",
     "exception": false,
     "start_time": "2023-07-03T12:51:40.842797",
     "status": "completed"
    },
    "tags": []
   },
   "source": [
    "**conclusion:**\n",
    "* **Weekend Usage**: The countplot reveals that both members and casual riders show higher usage on weekends (Saturday and Sunday) compared to weekdays. This indicates that weekends are popular for recreational or leisurely bike rides, attracting riders from both member types.\n",
    "\n",
    "* **Weekday Usage Patterns**: On weekdays, members tend to have higher usage compared to casual riders. This suggests that members rely on the bike-sharing service for their daily commuting needs, while casual riders may have other transportation options or use the service less frequently during weekdays.\n",
    "\n",
    "* **Member Dominance**: The countplot also shows that members consistently outnumber casual riders on all days of the week. This highlights the significant role of members in driving the overall usage of the bike-sharing service. Understanding the preferences and usage patterns of members can help tailor services and promotions to cater to their needs and retain their loyalty."
   ]
  },
  {
   "cell_type": "code",
   "execution_count": null,
   "id": "bae2f973",
   "metadata": {
    "execution": {
     "iopub.execute_input": "2023-07-03T12:51:40.926185Z",
     "iopub.status.busy": "2023-07-03T12:51:40.924805Z",
     "iopub.status.idle": "2023-07-03T12:51:49.567284Z",
     "shell.execute_reply": "2023-07-03T12:51:49.566329Z"
    },
    "papermill": {
     "duration": 8.674301,
     "end_time": "2023-07-03T12:51:49.570013",
     "exception": false,
     "start_time": "2023-07-03T12:51:40.895712",
     "status": "completed"
    },
    "tags": []
   },
   "outputs": [],
   "source": [
    "import seaborn as sns\n",
    "import matplotlib.pyplot as plt\n",
    "\n",
    "plt.figure(figsize=(12, 6))\n",
    "sns.set_style(\"whitegrid\")\n",
    "\n",
    "# Define the order of the months\n",
    "order = ['January', 'February', 'March', 'April', 'May', 'June', 'July', 'August', 'September', 'October', 'November', 'December']\n",
    "\n",
    "# Create the countplot with the specified order and color palette\n",
    "ax = sns.countplot(x='Month_Name', hue='member_casual', data=bike_share, palette='ocean', order=order)\n",
    "\n",
    "# Set the title and axis labels\n",
    "plt.title(\"Monthly Usage by Member Type\", fontsize=16)\n",
    "plt.xlabel(\"Month\", fontsize=12)\n",
    "plt.ylabel(\"Count\", fontsize=12)\n",
    "\n",
    "# Customize the tick labels\n",
    "plt.xticks(fontsize=10)\n",
    "plt.yticks(fontsize=10)\n",
    "\n",
    "# Customize the legend\n",
    "ax.legend(title='Member Type', title_fontsize=12, fontsize=10)\n",
    "\n",
    "# Remove the spines\n",
    "sns.despine()\n",
    "\n",
    "# Show the plot\n",
    "plt.tight_layout()\n",
    "plt.show()"
   ]
  },
  {
   "cell_type": "markdown",
   "id": "d4df349c",
   "metadata": {
    "papermill": {
     "duration": 0.027562,
     "end_time": "2023-07-03T12:51:49.624085",
     "exception": false,
     "start_time": "2023-07-03T12:51:49.596523",
     "status": "completed"
    },
    "tags": []
   },
   "source": [
    "The summer months show the highest usage of bikes. This can be a starting point for preparing business strategy."
   ]
  },
  {
   "cell_type": "markdown",
   "id": "a0868954",
   "metadata": {
    "papermill": {
     "duration": 0.028393,
     "end_time": "2023-07-03T12:51:49.679696",
     "exception": false,
     "start_time": "2023-07-03T12:51:49.651303",
     "status": "completed"
    },
    "tags": []
   },
   "source": [
    "**conclusion:**\n",
    "\n",
    "**Potential Marketing Opportunities**: The countplot can help identify periods of high and low demand throughout the year. This information can be utilized to plan targeted marketing campaigns and promotions to attract more casual riders during the off-peak months. By incentivizing casual riders with discounts, special offers, or seasonal promotions, bike-sharing companies can potentially increase overall usage and revenue during the less busy periods."
   ]
  },
  {
   "cell_type": "markdown",
   "id": "b219534e",
   "metadata": {
    "papermill": {
     "duration": 0.025393,
     "end_time": "2023-07-03T12:51:49.731475",
     "exception": false,
     "start_time": "2023-07-03T12:51:49.706082",
     "status": "completed"
    },
    "tags": []
   },
   "source": [
    "## INSIGHTS:\n",
    "The insights extracted from the data analysis and visualizations offer valuable knowledge and understanding of the underlying patterns, trends, and relationships within the data, empowering stakeholders to make informed decisions and take appropriate actions.\n",
    "\n",
    "1. The bike usage trend **highlightes the purpose** for which the bikes are used.\n",
    "\n",
    "1. **Member riders** have annual memberships because their f**requency of bike usage is higher.** They use it for **daily commute of shorter distance.**\n",
    "\n",
    "1. **Casual riders** more often use bikes **for leisure or personal activities. Their usage is higher on weekends.**\n",
    "\n",
    "1. **Summer months are more popular** and business can focus on this period to maximise its profit.\n",
    "\n",
    "1. **Special 'Summer Membership' can be introduced** specifically for casual riders who're hesitant to go for annual membership.\n",
    "\n",
    "1. **Coupons, Discounts schemes can be introduced** for casual riders to **increase their bike usage on weekdays or small distance journeys.**\n",
    "\n",
    "1. It is important for business **to develop the idea of using bikes regulary than just for leisure activities in casual riders**."
   ]
  },
  {
   "cell_type": "markdown",
   "id": "2aff2255",
   "metadata": {
    "papermill": {
     "duration": 0.027269,
     "end_time": "2023-07-03T12:51:49.785429",
     "exception": false,
     "start_time": "2023-07-03T12:51:49.758160",
     "status": "completed"
    },
    "tags": []
   },
   "source": [
    "# ACT:\n",
    "\n",
    "1. **Introduce a \"Summer Membership\"**: To attract more casual riders during the peak summer months, Cyclistics can offer a special \"Summer Membership\" tailored for their needs. This membership can provide discounted rates, flexible usage options, and additional benefits to encourage casual riders to use the bikes regularly for leisure or personal activities.\n",
    "\n",
    "1. **Implement Promotional Campaigns**: To increase bike usage by casual riders on weekdays and for shorter distance journeys, Cyclistics can launch targeted promotional campaigns. Coupons, discounts, or incentives can be offered specifically for casual riders during these periods, motivating them to utilize the bikes for daily commuting or other purposes.\n",
    "\n",
    "1. **Enhance Member Engagement**: To retain existing annual members and encourage casual riders to consider annual memberships, Cyclistics should focus on enhancing member engagement. This can be achieved by introducing loyalty programs, personalized offers, and exclusive benefits for annual members, highlighting the convenience, cost-effectiveness, and value of having a long-term membership.\n",
    "\n",
    "1. **Shift Perception of Casual Riding**: Cyclistics should work towards changing the perception of casual riding from solely leisure activities to regular use for daily commuting or practical purposes. This can be done through targeted marketing campaigns that emphasize the benefits of using bikes regularly, such as improved fitness, cost savings, reduced carbon footprint, and convenience.\n",
    "\n",
    "By implementing these actions, Cyclistics can optimize its services, attract more casual riders, increase member retention, and ultimately drive business growth by aligning offerings with the identified usage patterns and preferences of different rider segments."
   ]
  }
 ],
 "metadata": {
  "hide_input": false,
  "kernelspec": {
   "display_name": "Python 3 (ipykernel)",
   "language": "python",
   "name": "python3"
  },
  "language_info": {
   "codemirror_mode": {
    "name": "ipython",
    "version": 3
   },
   "file_extension": ".py",
   "mimetype": "text/x-python",
   "name": "python",
   "nbconvert_exporter": "python",
   "pygments_lexer": "ipython3",
   "version": "3.9.7"
  },
  "papermill": {
   "default_parameters": {},
   "duration": 669.033919,
   "end_time": "2023-07-03T12:51:52.436501",
   "environment_variables": {},
   "exception": null,
   "input_path": "__notebook__.ipynb",
   "output_path": "__notebook__.ipynb",
   "parameters": {},
   "start_time": "2023-07-03T12:40:43.402582",
   "version": "2.4.0"
  }
 },
 "nbformat": 4,
 "nbformat_minor": 5
}
